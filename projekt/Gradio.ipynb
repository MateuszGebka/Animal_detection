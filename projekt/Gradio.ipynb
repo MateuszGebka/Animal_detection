{
 "cells": [
  {
   "cell_type": "code",
   "execution_count": 7,
   "id": "808e3907",
   "metadata": {},
   "outputs": [
    {
     "name": "stderr",
     "output_type": "stream",
     "text": [
      "WARNING:absl:Compiled the loaded model, but the compiled metrics have yet to be built. `model.compile_metrics` will be empty until you train or evaluate the model.\n"
     ]
    },
    {
     "name": "stdout",
     "output_type": "stream",
     "text": [
      "Running on local URL:  http://127.0.0.1:7863\n",
      "Running on public URL: https://7e4238136eda80ca96.gradio.live\n",
      "\n",
      "This share link expires in 72 hours. For free permanent hosting and GPU upgrades, run `gradio deploy` from Terminal to deploy to Spaces (https://huggingface.co/spaces)\n"
     ]
    },
    {
     "data": {
      "text/html": [
       "<div><iframe src=\"https://7e4238136eda80ca96.gradio.live\" width=\"100%\" height=\"500\" allow=\"autoplay; camera; microphone; clipboard-read; clipboard-write;\" frameborder=\"0\" allowfullscreen></iframe></div>"
      ],
      "text/plain": [
       "<IPython.core.display.HTML object>"
      ]
     },
     "metadata": {},
     "output_type": "display_data"
    },
    {
     "data": {
      "text/plain": []
     },
     "execution_count": 7,
     "metadata": {},
     "output_type": "execute_result"
    }
   ],
   "source": [
    "import os\n",
    "import numpy as np\n",
    "import gradio as gr\n",
    "import tensorflow as tf\n",
    "from tensorflow.keras.preprocessing import image\n",
    "from PIL import Image\n",
    "\n",
    "\n",
    "class_names = [\n",
    "    \"badger\", \"bear\", \"bee\", \"bird\", \"butterfly\", \"cat\", \"cock\", \"cow\", \"deer\",\n",
    "    \"dog\", \"elephant\", \"giraffe\", \"goose\", \"hog\", \"horse\", \"monkey\", \"peacock\",\n",
    "    \"penguin\", \"sheep\", \"snake\", \"spider\", \"squirrel\", \"tiger\",\n",
    "]\n",
    "\n",
    "# Load the model\n",
    "model_path = r'C:\\Users\\Mateusz\\Animal_detection\\projekt\\mod.h5'\n",
    "model = tf.keras.models.load_model(model_path)\n",
    "\n",
    "\n",
    "def classify_image(img):\n",
    "    img = Image.fromarray(img.astype('uint8'), 'RGB')\n",
    "    img = img.resize((224, 224))  \n",
    "    img_array = image.img_to_array(img)\n",
    "    img_array = np.expand_dims(img_array, axis=0)  \n",
    "    img_array /= 255.0  \n",
    "\n",
    "    predictions = model.predict(img_array)[0]\n",
    "\n",
    "    class_probabilities = {class_name: float(predictions[i]) for i, class_name in enumerate(class_names)}\n",
    "\n",
    "    return class_probabilities\n",
    "\n",
    "\n",
    "image_input = gr.Image(image_mode=\"RGB\", type=\"numpy\")\n",
    "label_output = gr.Label(num_top_classes=len(class_names))\n",
    "\n",
    "\n",
    "gr.Interface(fn=classify_image, inputs=image_input, outputs=label_output).launch(share=True)"
   ]
  },
  {
   "cell_type": "code",
   "execution_count": null,
   "id": "96b51f08",
   "metadata": {},
   "outputs": [],
   "source": []
  }
 ],
 "metadata": {
  "kernelspec": {
   "display_name": "Python 3 (ipykernel)",
   "language": "python",
   "name": "python3"
  },
  "language_info": {
   "codemirror_mode": {
    "name": "ipython",
    "version": 3
   },
   "file_extension": ".py",
   "mimetype": "text/x-python",
   "name": "python",
   "nbconvert_exporter": "python",
   "pygments_lexer": "ipython3",
   "version": "3.11.5"
  }
 },
 "nbformat": 4,
 "nbformat_minor": 5
}
