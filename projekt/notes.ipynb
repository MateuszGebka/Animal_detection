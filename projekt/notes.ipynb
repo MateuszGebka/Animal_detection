{
 "cells": [
  {
   "cell_type": "code",
   "execution_count": 42,
   "id": "1f0a464d",
   "metadata": {},
   "outputs": [],
   "source": [
    "import tensorflow as tf\n",
    "from tensorflow.keras.models import Sequential, load_model\n",
    "from tensorflow.keras.layers import Conv2D, MaxPooling2D, GlobalAveragePooling2D, Dense, Dropout, BatchNormalization\n",
    "from tensorflow.keras.preprocessing.image import ImageDataGenerator\n",
    "from tensorflow.keras.callbacks import EarlyStopping, ReduceLROnPlateau\n",
    "import os\n",
    "import numpy as np"
   ]
  },
  {
   "cell_type": "code",
   "execution_count": 43,
   "id": "e51e4438",
   "metadata": {},
   "outputs": [],
   "source": [
    "class ModelTrainer:\n",
    "    def __init__(self, train_dir, val_dir, batch_size=32, img_size=(224, 224)):\n",
    "        self.train_dir = train_dir\n",
    "        self.val_dir = val_dir\n",
    "        self.batch_size = batch_size\n",
    "        self.img_size = img_size\n",
    "        self.train_generator = None\n",
    "        self.val_generator = None\n",
    "\n",
    "    def prepare_data(self):\n",
    "        train_datagen = ImageDataGenerator(\n",
    "            rescale=1./255,\n",
    "            rotation_range=40,\n",
    "            width_shift_range=0.2,\n",
    "            height_shift_range=0.2,\n",
    "            shear_range=0.2,\n",
    "            zoom_range=0.2,\n",
    "            horizontal_flip=True\n",
    "        )\n",
    "        val_datagen = ImageDataGenerator(rescale=1./255)\n",
    "\n",
    "        self.train_generator = train_datagen.flow_from_directory(\n",
    "            self.train_dir,\n",
    "            target_size=self.img_size,\n",
    "            batch_size=self.batch_size,\n",
    "            class_mode='categorical',\n",
    "            shuffle=True\n",
    "        )\n",
    "        self.val_generator = val_datagen.flow_from_directory(\n",
    "            self.val_dir,\n",
    "            target_size=self.img_size,\n",
    "            batch_size=self.batch_size,\n",
    "            class_mode='categorical',\n",
    "            shuffle=True\n",
    "        )\n",
    "\n",
    "    def build_model(self, num_classes):\n",
    "        model = Sequential([\n",
    "            Conv2D(32, (3, 3), activation='relu', input_shape=(*self.img_size, 3)),\n",
    "            BatchNormalization(),\n",
    "            MaxPooling2D((2, 2)),\n",
    "\n",
    "            Conv2D(64, (3, 3), activation='relu'),\n",
    "            BatchNormalization(),\n",
    "            MaxPooling2D((2, 2)),\n",
    "\n",
    "            Conv2D(128, (3, 3), activation='relu'),\n",
    "            BatchNormalization(),\n",
    "            MaxPooling2D((2, 2)),\n",
    "\n",
    "            Conv2D(256, (3, 3), activation='relu'),\n",
    "            BatchNormalization(),\n",
    "            MaxPooling2D((2, 2)),\n",
    "\n",
    "            Conv2D(512, (3, 3), activation='relu'),\n",
    "            BatchNormalization(),\n",
    "            MaxPooling2D((2, 2)),\n",
    "\n",
    "            GlobalAveragePooling2D(),\n",
    "            Dense(512, activation='relu'),\n",
    "            BatchNormalization(),\n",
    "            Dropout(0.5),\n",
    "\n",
    "            Dense(num_classes, activation='softmax')\n",
    "        ])\n",
    "\n",
    "        model.compile(\n",
    "            optimizer='adam',\n",
    "            loss='categorical_crossentropy',\n",
    "            metrics=['accuracy']\n",
    "        )\n",
    "\n",
    "        self.model = model\n",
    "\n",
    "    def train_model(self, epochs=100):\n",
    "        early_stopping = EarlyStopping(\n",
    "            monitor='val_loss',        \n",
    "            patience=10,               \n",
    "            restore_best_weights=True  \n",
    "        )\n",
    "        reduce_lr = ReduceLROnPlateau(\n",
    "            monitor='val_loss',        \n",
    "            factor=0.2,                \n",
    "            patience=5,                \n",
    "            min_lr=0.0001              \n",
    "        )\n",
    "\n",
    "        history = self.model.fit(\n",
    "            self.train_generator,\n",
    "            steps_per_epoch=self.train_generator.samples // self.train_generator.batch_size,\n",
    "            epochs=epochs,\n",
    "            validation_data=self.val_generator,\n",
    "            validation_steps=self.val_generator.samples // self.val_generator.batch_size,\n",
    "            callbacks=[early_stopping, reduce_lr]\n",
    "        )\n",
    "\n",
    "        return history\n",
    "\n",
    "    def save_model(self, model_path):\n",
    "        self.model.save(model_path)"
   ]
  },
  {
   "cell_type": "code",
   "execution_count": 44,
   "id": "63d91fbe",
   "metadata": {},
   "outputs": [],
   "source": [
    "class ModelEvaluator:\n",
    "    def __init__(self, model_path, test_dir, batch_size=32, img_size=(224, 224)):\n",
    "        self.model_path = model_path\n",
    "        self.test_dir = test_dir\n",
    "        self.batch_size = batch_size\n",
    "        self.img_size = img_size\n",
    "        self.test_generator = None\n",
    "\n",
    "    def load_model(self):\n",
    "        self.model = tf.keras.models.load_model(self.model_path)\n",
    "\n",
    "    def prepare_data(self):\n",
    "        test_datagen = ImageDataGenerator(rescale=1./255)\n",
    "        self.test_generator = test_datagen.flow_from_directory(\n",
    "            self.test_dir,\n",
    "            target_size=self.img_size,\n",
    "            batch_size=self.batch_size,\n",
    "            class_mode='categorical',\n",
    "            shuffle=False\n",
    "        )\n",
    "\n",
    "    def evaluate_model(self):\n",
    "        evaluation = self.model.evaluate(self.test_generator)\n",
    "        return evaluation"
   ]
  },
  {
   "cell_type": "code",
   "execution_count": 56,
   "id": "89289912",
   "metadata": {},
   "outputs": [],
   "source": [
    "class ImagePredictor:\n",
    "    def __init__(self, model_path, train_dir, img_size=(224, 224)):\n",
    "        self.model_path = model_path\n",
    "        self.train_dir = train_dir\n",
    "        self.img_size = img_size\n",
    "\n",
    "    def load_model(self):\n",
    "        self.model = tf.keras.models.load_model(self.model_path)\n",
    "\n",
    "    def load_and_preprocess_image(self, img_path):\n",
    "        img = tf.keras.preprocessing.image.load_img(img_path, target_size=self.img_size)\n",
    "        img_array = tf.keras.preprocessing.image.img_to_array(img)\n",
    "        img_array = tf.expand_dims(img_array, axis=0)\n",
    "        img_array /= 255.0\n",
    "        return img_array\n",
    "\n",
    "    def get_class_labels(self):\n",
    "        self.class_labels = {i: folder for i, folder in enumerate(os.listdir(self.train_dir))}\n",
    "\n",
    "    def predict_image_class(self, img_path):\n",
    "        img_array = self.load_and_preprocess_image(img_path)\n",
    "        predictions = self.model.predict(img_array)\n",
    "        predicted_class_index = np.argmax(predictions)\n",
    "        return self.class_labels[predicted_class_index]"
   ]
  },
  {
   "cell_type": "code",
   "execution_count": null,
   "id": "c95a5941",
   "metadata": {},
   "outputs": [],
   "source": [
    "trainer = ModelTrainer(train_dir=r'\\train', val_dir=r'\\val')\n",
    "trainer.prepare_data()\n",
    "trainer.build_model(num_classes=23) \n",
    "history = trainer.train_model(epochs=100)\n",
    "trainer.save_model(r'\\nazwa_modelu.h5')"
   ]
  },
  {
   "cell_type": "code",
   "execution_count": 46,
   "id": "d12883d1",
   "metadata": {},
   "outputs": [
    {
     "name": "stderr",
     "output_type": "stream",
     "text": [
      "WARNING:absl:Compiled the loaded model, but the compiled metrics have yet to be built. `model.compile_metrics` will be empty until you train or evaluate the model.\n"
     ]
    },
    {
     "name": "stdout",
     "output_type": "stream",
     "text": [
      "Found 4752 images belonging to 23 classes.\n",
      "\u001b[1m149/149\u001b[0m \u001b[32m━━━━━━━━━━━━━━━━━━━━\u001b[0m\u001b[37m\u001b[0m \u001b[1m32s\u001b[0m 213ms/step - accuracy: 0.7999 - loss: 0.7007\n",
      "Loss: 0.754960834980011, Accuracy: 0.7788299918174744\n"
     ]
    }
   ],
   "source": [
    "evaluator = ModelEvaluator(model_path=r'\\model\\mod.h5', test_dir=r'\\test')\n",
    "evaluator.load_model()\n",
    "evaluator.prepare_data()\n",
    "evaluation = evaluator.evaluate_model()\n",
    "print(f\"Loss: {evaluation[0]}, Accuracy: {evaluation[1]}\")"
   ]
  },
  {
   "cell_type": "code",
   "execution_count": 61,
   "id": "d573ddd5",
   "metadata": {},
   "outputs": [
    {
     "name": "stderr",
     "output_type": "stream",
     "text": [
      "WARNING:absl:Compiled the loaded model, but the compiled metrics have yet to be built. `model.compile_metrics` will be empty until you train or evaluate the model.\n"
     ]
    },
    {
     "name": "stdout",
     "output_type": "stream",
     "text": [
      "\u001b[1m1/1\u001b[0m \u001b[32m━━━━━━━━━━━━━━━━━━━━\u001b[0m\u001b[37m\u001b[0m \u001b[1m0s\u001b[0m 119ms/step\n",
      "Przewidywane zwierzę: sheep\n"
     ]
    }
   ],
   "source": [
    "predictor = ImagePredictor(model_path=r'\\model\\mod.h5', train_dir=r'\\train')\n",
    "predictor.load_model()\n",
    "predictor.get_class_labels()\n",
    "predicted_class = predictor.predict_image_class(r'\\owca1.jpg')\n",
    "print(f\"Przewidywane zwierzę: {predicted_class}\")"
   ]
  },
  {
   "cell_type": "code",
   "execution_count": null,
   "id": "ddbaa2ce",
   "metadata": {},
   "outputs": [],
   "source": []
  }
 ],
 "metadata": {
  "kernelspec": {
   "display_name": "Python 3 (ipykernel)",
   "language": "python",
   "name": "python3"
  },
  "language_info": {
   "codemirror_mode": {
    "name": "ipython",
    "version": 3
   },
   "file_extension": ".py",
   "mimetype": "text/x-python",
   "name": "python",
   "nbconvert_exporter": "python",
   "pygments_lexer": "ipython3",
   "version": "3.11.5"
  }
 },
 "nbformat": 4,
 "nbformat_minor": 5
}
